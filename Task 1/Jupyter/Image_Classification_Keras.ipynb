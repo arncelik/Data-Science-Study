{
  "nbformat": 4,
  "nbformat_minor": 0,
  "metadata": {
    "colab": {
      "name": "Image_Classification_Keras.ipynb",
      "version": "0.3.2",
      "provenance": []
    },
    "kernelspec": {
      "name": "python3",
      "display_name": "Python 3"
    }
  },
  "cells": [
    {
      "metadata": {
        "id": "fnlhaRCNDKlo",
        "colab_type": "code",
        "colab": {}
      },
      "cell_type": "code",
      "source": [
        "import tensorflow as tf\n",
        "(x_train, y_train), (x_test, y_test) = tf.keras.datasets.mnist.load_data()\n",
        "import matplotlib.pyplot as plt\n",
        "%matplotlib inline \n",
        "image_index = 40000\n",
        "print(y_train[image_index])\n",
        "plt.imshow(x_train[image_index], cmap = \"Greys\")\n"
      ],
      "execution_count": 0,
      "outputs": []
    },
    {
      "metadata": {
        "id": "8hREacWWDWbu",
        "colab_type": "code",
        "colab": {
          "base_uri": "https://localhost:8080/",
          "height": 34
        },
        "outputId": "e8858ecd-b8cc-4b67-c8d5-9a26feedc4b5"
      },
      "cell_type": "code",
      "source": [
        ""
      ],
      "execution_count": 2,
      "outputs": [
        {
          "output_type": "execute_result",
          "data": {
            "text/plain": [
              "(60000, 28, 28)"
            ]
          },
          "metadata": {
            "tags": []
          },
          "execution_count": 2
        }
      ]
    },
    {
      "metadata": {
        "id": "J6bGzNUkDcFk",
        "colab_type": "code",
        "colab": {}
      },
      "cell_type": "code",
      "source": [
        "from keras.models import Sequential\n",
        "from keras.layers import Dense, Conv2D, Dropout, Flatten, MaxPooling2D\n",
        "\n",
        "model = Sequential()\n",
        "model.add(Conv2D(28, kernel_size=(3,3), input_shape = input_shape))\n",
        "model.add(MaxPooling2D(pool_size=(2,2)))\n",
        "model.add(Flatten())\n",
        "model.add(Dense(128, activation=tf.nn.relu))\n",
        "model.add(Dropout(0.2))\n",
        "model.add(Dense(10, activation=tf.nn.softmax))\n"
      ],
      "execution_count": 0,
      "outputs": []
    },
    {
      "metadata": {
        "id": "mJeFbmSVFng1",
        "colab_type": "code",
        "colab": {
          "base_uri": "https://localhost:8080/",
          "height": 394
        },
        "outputId": "94225b25-2eb6-4cce-ee53-bb331a6b260e"
      },
      "cell_type": "code",
      "source": [
        "model.compile(optimizer='adam',\n",
        "              loss=\"sparse_categorical_crossentropy\", \n",
        "              metrics=['accuracy'])\n",
        "model.fit(x=x_train, y=y_train, epochs=10)"
      ],
      "execution_count": 27,
      "outputs": [
        {
          "output_type": "stream",
          "text": [
            "Epoch 1/10\n",
            "60000/60000 [==============================] - 47s 787us/step - loss: 0.0174 - acc: 0.9940\n",
            "Epoch 2/10\n",
            "60000/60000 [==============================] - 47s 788us/step - loss: 0.0134 - acc: 0.9956\n",
            "Epoch 3/10\n",
            "60000/60000 [==============================] - 46s 767us/step - loss: 0.0140 - acc: 0.9956\n",
            "Epoch 4/10\n",
            "60000/60000 [==============================] - 46s 775us/step - loss: 0.0141 - acc: 0.9954\n",
            "Epoch 5/10\n",
            "60000/60000 [==============================] - 46s 767us/step - loss: 0.0118 - acc: 0.9960\n",
            "Epoch 6/10\n",
            "60000/60000 [==============================] - 45s 756us/step - loss: 0.0128 - acc: 0.9960\n",
            "Epoch 7/10\n",
            "60000/60000 [==============================] - 45s 757us/step - loss: 0.0127 - acc: 0.9959\n",
            "Epoch 8/10\n",
            "60000/60000 [==============================] - 46s 771us/step - loss: 0.0116 - acc: 0.9962\n",
            "Epoch 9/10\n",
            "60000/60000 [==============================] - 46s 770us/step - loss: 0.0103 - acc: 0.9963\n",
            "Epoch 10/10\n",
            "60000/60000 [==============================] - 46s 775us/step - loss: 0.0100 - acc: 0.9967\n"
          ],
          "name": "stdout"
        },
        {
          "output_type": "execute_result",
          "data": {
            "text/plain": [
              "<keras.callbacks.History at 0x7f3f454876a0>"
            ]
          },
          "metadata": {
            "tags": []
          },
          "execution_count": 27
        }
      ]
    },
    {
      "metadata": {
        "id": "TE_kMePwHbnC",
        "colab_type": "code",
        "colab": {
          "base_uri": "https://localhost:8080/",
          "height": 51
        },
        "outputId": "cbcfdf11-b3df-412b-c462-0fb4f2fc76a5"
      },
      "cell_type": "code",
      "source": [
        "model.evaluate(x_test, y_test)"
      ],
      "execution_count": 28,
      "outputs": [
        {
          "output_type": "stream",
          "text": [
            "10000/10000 [==============================] - 2s 230us/step\n"
          ],
          "name": "stdout"
        },
        {
          "output_type": "execute_result",
          "data": {
            "text/plain": [
              "[0.0748379663920241, 0.9858]"
            ]
          },
          "metadata": {
            "tags": []
          },
          "execution_count": 28
        }
      ]
    },
    {
      "metadata": {
        "id": "gYM_0gjXHs7J",
        "colab_type": "code",
        "colab": {
          "base_uri": "https://localhost:8080/",
          "height": 282
        },
        "outputId": "7092467e-830e-4db3-c8e6-535378f9c742"
      },
      "cell_type": "code",
      "source": [
        "image_index = 3000\n",
        "\n",
        "plt.imshow(x_test[image_index].reshape(28,28),cmap='Greys')\n",
        "\n",
        "pred = model.predict(x_test[image_index].reshape(1, 28,28,1))\n",
        "\n",
        "print(pred.argmax())"
      ],
      "execution_count": 38,
      "outputs": [
        {
          "output_type": "stream",
          "text": [
            "6\n"
          ],
          "name": "stdout"
        },
        {
          "output_type": "display_data",
          "data": {
            "image/png": "[encoded data removed]",
            "text/plain": [
              "<matplotlib.figure.Figure at 0x7f3f41c26f28>"
            ]
          },
          "metadata": {
            "tags": []
          }
        }
      ]
    },
    {
      "metadata": {
        "id": "N8XzbbCmaQ7W",
        "colab_type": "code",
        "colab": {}
      },
      "cell_type": "code",
      "source": [
        ""
      ],
      "execution_count": 0,
      "outputs": []
    },
    {
      "metadata": {
        "id": "Gsj1CWpdH08v",
        "colab_type": "code",
        "colab": {}
      },
      "cell_type": "code",
      "source": [
        ""
      ],
      "execution_count": 0,
      "outputs": []
    }
  ]
}