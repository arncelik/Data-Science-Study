{
  "nbformat": 4,
  "nbformat_minor": 0,
  "metadata": {
    "colab": {
      "name": "ShuffleNet.ipynb",
      "version": "0.3.2",
      "provenance": [],
      "collapsed_sections": []
    },
    "kernelspec": {
      "name": "python3",
      "display_name": "Python 3"
    }
  },
  "cells": [
    {
      "metadata": {
        "id": "v94cFCdRIij6",
        "colab_type": "code",
        "outputId": "be187e06-6444-4a4d-bd29-e328677913ee",
        "colab": {
          "base_uri": "https://localhost:8080/",
          "height": 387
        }
      },
      "cell_type": "code",
      "source": [
        "import keras\n",
        "from keras.preprocessing.image import imageDataGenerator\n",
        "from keras.applications.imagenet_utilis import preprocess_input\n",
        "from keras.utilis import plot_model\n",
        "from shufflenet import ShuffleNet\n",
        "from keras.callbacks import CSVLogger, ModelCheckpoint, ReduceLROnPlatteau, LearningScheduler\n",
        "import numpy as np"
      ],
      "execution_count": 0,
      "outputs": [
        {
          "output_type": "error",
          "ename": "ImportError",
          "evalue": "ignored",
          "traceback": [
            "\u001b[0;31m---------------------------------------------------------------------------\u001b[0m",
            "\u001b[0;31mImportError\u001b[0m                               Traceback (most recent call last)",
            "\u001b[0;32m<ipython-input-12-290f829f2c7d>\u001b[0m in \u001b[0;36m<module>\u001b[0;34m()\u001b[0m\n\u001b[1;32m      1\u001b[0m \u001b[0;32mimport\u001b[0m \u001b[0mkeras\u001b[0m\u001b[0;34m\u001b[0m\u001b[0;34m\u001b[0m\u001b[0m\n\u001b[0;32m----> 2\u001b[0;31m \u001b[0;32mfrom\u001b[0m \u001b[0mkeras\u001b[0m\u001b[0;34m.\u001b[0m\u001b[0mpreprocessing\u001b[0m\u001b[0;34m.\u001b[0m\u001b[0mimage\u001b[0m \u001b[0;32mimport\u001b[0m \u001b[0mimageDataGenerator\u001b[0m\u001b[0;34m\u001b[0m\u001b[0;34m\u001b[0m\u001b[0m\n\u001b[0m\u001b[1;32m      3\u001b[0m \u001b[0;32mfrom\u001b[0m \u001b[0mkeras\u001b[0m\u001b[0;34m.\u001b[0m\u001b[0mapplications\u001b[0m\u001b[0;34m.\u001b[0m\u001b[0mimagenet_utilis\u001b[0m \u001b[0;32mimport\u001b[0m \u001b[0mpreprocess_input\u001b[0m\u001b[0;34m\u001b[0m\u001b[0;34m\u001b[0m\u001b[0m\n\u001b[1;32m      4\u001b[0m \u001b[0;32mfrom\u001b[0m \u001b[0mkeras\u001b[0m\u001b[0;34m.\u001b[0m\u001b[0mutilis\u001b[0m \u001b[0;32mimport\u001b[0m \u001b[0mplot_model\u001b[0m\u001b[0;34m\u001b[0m\u001b[0;34m\u001b[0m\u001b[0m\n\u001b[1;32m      5\u001b[0m \u001b[0;32mfrom\u001b[0m \u001b[0mshufflenet\u001b[0m \u001b[0;32mimport\u001b[0m \u001b[0mShuffleNet\u001b[0m\u001b[0;34m\u001b[0m\u001b[0;34m\u001b[0m\u001b[0m\n",
            "\u001b[0;31mImportError\u001b[0m: cannot import name 'imageDataGenerator'",
            "",
            "\u001b[0;31m---------------------------------------------------------------------------\u001b[0;32m\nNOTE: If your import is failing due to a missing package, you can\nmanually install dependencies using either !pip or !apt.\n\nTo view examples of installing some common dependencies, click the\n\"Open Examples\" button below.\n\u001b[0;31m---------------------------------------------------------------------------\u001b[0m\n"
          ]
        }
      ]
    },
    {
      "metadata": {
        "id": "6UsLrAQSHy-4",
        "colab_type": "code",
        "colab": {}
      },
      "cell_type": "code",
      "source": [
        "imagedata"
      ],
      "execution_count": 0,
      "outputs": []
    },
    {
      "metadata": {
        "id": "aGJPRSxxJhkq",
        "colab_type": "code",
        "colab": {}
      },
      "cell_type": "code",
      "source": [
        "def preproces(x):\n",
        "  x = np.expand_dims(x, axis=0)\n",
        "  x = prerocess_input(x)\n",
        "  x /= 255.0\n",
        "  x -=0.5\n",
        "  x *=2.0\n",
        "  return x"
      ],
      "execution_count": 0,
      "outputs": []
    },
    {
      "metadata": {
        "id": "nfuK1qrVIEmD",
        "colab_type": "code",
        "outputId": "1fd176cf-f6c6-4650-d3ae-7f62aecead4a",
        "colab": {
          "base_uri": "https://localhost:8080/",
          "height": 251
        }
      },
      "cell_type": "code",
      "source": [
        "if __name__=='__main__':\n",
        "  groups = 3\n",
        "  batch_size = 128\n",
        "  intial_epoch = 0\n",
        "  ds = '/mt/daten/Development/ILSVRC2012_256'\n",
        "  \n",
        "  model = ShuffleNet(groups=groups, pooling='avg')\n",
        "  plot_model(model, 'model.png', show_shapes=True)\n",
        "  # model.load_weight('%s.hdf5' % model.name, by_name=True)\n",
        "  csv_logger = CSVLogger ('%s.log' %model.name, append=(initial_epoch is not 0))\n",
        "  checkpoint = ModelCheckPoint(filepath='%s.hdf5' % model.name, verbose=1,\n",
        "                              save_best_only=True, monitor=\"val_acc\", mode=\"max\")\n",
        "  \n",
        "  learn_rates = [0.05, 0.01, 0.005, 0.001, 0.0005]\n",
        "  lr_scheduler = LearningRateScheduler(lambda epoch: learn_rates[epoch // 30])\n",
        "  \n",
        "  train_datagen = ImageDataGEnerator(preprocessing_fucntion = preprocess,\n",
        "                                    zoom_range = 0.05,\n",
        "                                    width_shift_range = 0.05,\n",
        "                                    heigth_shift_range = 0.05,\n",
        "                                    horizontal_flip=True)\n",
        "  test_datagen = ImageDataGenerator(preprocessing_function = prerocess)\n",
        "  \n",
        "  train_generator = train_datagen.flow_from_directory(\n",
        "     '%s/train/' %ds,\n",
        "      target_size=(224, 224),\n",
        "      batch_size = batch_size)\n",
        "  \n",
        "  test_generator = test_datagen.flow_from_directory(\n",
        "            '%s/val/' % ds,\n",
        "            target_size=(224, 224),\n",
        "            batch_size=batch_size)\n",
        "\n",
        "  model.compile(\n",
        "              optimizer=keras.optimizers.SGD(lr=.05, decay=5e-4, momentum=0.9),\n",
        "              metrics=['accuracy'],\n",
        "              loss='categorical_crossentropy')\n",
        "\n",
        "  model.fit_generator(\n",
        "            train_generator,\n",
        "            steps_per_epoch=train_generator.samples // batch_size,\n",
        "            epochs=100,\n",
        "            workers=7,\n",
        "            initial_epoch=inital_epoch,\n",
        "            use_multiprocessing=False,\n",
        "            validation_data=test_generator,\n",
        "            validation_steps=test_generator.samples // batch_size,\n",
        "            callbacks=[csv_logger, checkpoint, lr_scheduler])\n",
        "  \n",
        "  "
      ],
      "execution_count": 0,
      "outputs": [
        {
          "output_type": "error",
          "ename": "NameError",
          "evalue": "ignored",
          "traceback": [
            "\u001b[0;31m---------------------------------------------------------------------------\u001b[0m",
            "\u001b[0;31mNameError\u001b[0m                                 Traceback (most recent call last)",
            "\u001b[0;32m<ipython-input-9-125c1a352f7c>\u001b[0m in \u001b[0;36m<module>\u001b[0;34m()\u001b[0m\n\u001b[1;32m      5\u001b[0m   \u001b[0mds\u001b[0m \u001b[0;34m=\u001b[0m \u001b[0;34m'/mt/daten/Development/ILSVRC2012_256'\u001b[0m\u001b[0;34m\u001b[0m\u001b[0;34m\u001b[0m\u001b[0m\n\u001b[1;32m      6\u001b[0m \u001b[0;34m\u001b[0m\u001b[0m\n\u001b[0;32m----> 7\u001b[0;31m   \u001b[0mmodel\u001b[0m \u001b[0;34m=\u001b[0m \u001b[0mShuffleNet\u001b[0m\u001b[0;34m(\u001b[0m\u001b[0mgroups\u001b[0m\u001b[0;34m=\u001b[0m\u001b[0mgroups\u001b[0m\u001b[0;34m,\u001b[0m \u001b[0mpooling\u001b[0m\u001b[0;34m=\u001b[0m\u001b[0;34m'avg'\u001b[0m\u001b[0;34m)\u001b[0m\u001b[0;34m\u001b[0m\u001b[0;34m\u001b[0m\u001b[0m\n\u001b[0m\u001b[1;32m      8\u001b[0m   \u001b[0mplot_model\u001b[0m\u001b[0;34m(\u001b[0m\u001b[0mmodel\u001b[0m\u001b[0;34m,\u001b[0m \u001b[0;34m'model.png'\u001b[0m\u001b[0;34m,\u001b[0m \u001b[0mshow_shapes\u001b[0m\u001b[0;34m=\u001b[0m\u001b[0;32mTrue\u001b[0m\u001b[0;34m)\u001b[0m\u001b[0;34m\u001b[0m\u001b[0;34m\u001b[0m\u001b[0m\n\u001b[1;32m      9\u001b[0m   \u001b[0;31m# model.load_weight('%s.hdf5' % model.name, by_name=True)\u001b[0m\u001b[0;34m\u001b[0m\u001b[0;34m\u001b[0m\u001b[0;34m\u001b[0m\u001b[0m\n",
            "\u001b[0;31mNameError\u001b[0m: name 'ShuffleNet' is not defined"
          ]
        }
      ]
    },
    {
      "metadata": {
        "id": "KIPIiyyTS4fv",
        "colab_type": "code",
        "colab": {}
      },
      "cell_type": "code",
      "source": [
        ""
      ],
      "execution_count": 0,
      "outputs": []
    }
  ]
}